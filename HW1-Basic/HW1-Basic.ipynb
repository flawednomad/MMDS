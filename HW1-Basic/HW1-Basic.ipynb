{
 "metadata": {
  "name": "",
  "signature": "sha256:61ace404d8e06fd8d08613d7f7129f447da483e35528cf7c5f2d82475a59f81e"
 },
 "nbformat": 3,
 "nbformat_minor": 0,
 "worksheets": [
  {
   "cells": [
    {
     "cell_type": "markdown",
     "metadata": {},
     "source": [
      "## MDDS Homework 1 -- Basic\n",
      "<img style=\"float:right\" src=\"otc_pagerank2.gif\"> \n",
      "### Question 1 \n",
      "\n",
      "Consider three Web pages with the following links:\n",
      "\n",
      "Suppose we compute PageRank with a \u03b2 of 0.7, and we introduce the additional constraint that the sum of the PageRanks of the three pages must be 3, to handle the problem that otherwise any multiple of a solution will also be a solution. Compute the PageRanks a, b, and c of the three pages A, B, and C, respectively. "
     ]
    },
    {
     "cell_type": "code",
     "collapsed": false,
     "input": [],
     "language": "python",
     "metadata": {},
     "outputs": []
    },
    {
     "cell_type": "code",
     "collapsed": false,
     "input": [],
     "language": "python",
     "metadata": {},
     "outputs": []
    }
   ],
   "metadata": {}
  }
 ]
}